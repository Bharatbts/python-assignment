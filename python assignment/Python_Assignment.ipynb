{
  "nbformat": 4,
  "nbformat_minor": 0,
  "metadata": {
    "colab": {
      "provenance": []
    },
    "kernelspec": {
      "name": "python3",
      "display_name": "Python 3"
    },
    "language_info": {
      "name": "python"
    }
  },
  "cells": [
    {
      "cell_type": "code",
      "execution_count": null,
      "metadata": {
        "id": "dALDS58en9q8"
      },
      "outputs": [],
      "source": [
        "# 1) What are the types of Applications?\n",
        "# Here are the main types of applications:\n",
        "# 1. Web Applications\n",
        "# 2. Mobile Applications\n",
        "# 3. Desktop Applications\n",
        "# 4. Cloud Applications\n",
        "# 6. Hybrid Applications"
      ]
    },
    {
      "cell_type": "code",
      "source": [
        "# 2) What is programing?\n",
        "# Programming is the process of creating a set of instructions that a computer can follow to perform a specific task or solve a problem."
      ],
      "metadata": {
        "id": "7U5HiCNwo2XA"
      },
      "execution_count": null,
      "outputs": []
    },
    {
      "cell_type": "code",
      "source": [
        "# 3) What is Python?\n",
        "# Python is a high-level, interpreted, general-purpose programming language known for its simplicity, readability, and wide range of applications."
      ],
      "metadata": {
        "id": "jrrmadS_pd_B"
      },
      "execution_count": null,
      "outputs": []
    },
    {
      "cell_type": "code",
      "source": [
        "# 4) Write a Python program to check if a number is positive, negative or\n",
        "# zero\n",
        "\n",
        "num = float(input(\"Enter a number:\"))\n",
        "\n",
        "if num > 0:\n",
        "    print(\"Positive number\")\n",
        "elif num < 0:\n",
        "    print(\"Negative number\")\n",
        "else:\n",
        "    print(\"The number is zero\")"
      ],
      "metadata": {
        "colab": {
          "base_uri": "https://localhost:8080/"
        },
        "id": "u3BvKTURpnlP",
        "outputId": "f3c8e136-fd88-4a63-eff4-2aa9dc8c26e2"
      },
      "execution_count": null,
      "outputs": [
        {
          "output_type": "stream",
          "name": "stdout",
          "text": [
            "Enter a number:20\n",
            "Positive number\n"
          ]
        }
      ]
    },
    {
      "cell_type": "code",
      "source": [
        "# 5)Write a Python program to get the Factorial number of given numbers.\n",
        "\n",
        "num = int(input(\"Enter a number:\"))\n",
        "\n",
        "factorial = 1\n",
        "\n",
        "if num < 0:\n",
        "    print(\"Factorial does not exist for negative numbers\")\n",
        "elif num == 0:\n",
        "    print(\"The factorial of 0 is 1\")\n",
        "else:\n",
        "    for i in range(1, num + 1):\n",
        "        factorial = factorial * i\n",
        "        print(\"The factorial of\", num, \"is\", factorial)"
      ],
      "metadata": {
        "colab": {
          "base_uri": "https://localhost:8080/"
        },
        "id": "oSA3oCxGqt8G",
        "outputId": "6fe06766-16f3-4a48-b566-d21589337523"
      },
      "execution_count": null,
      "outputs": [
        {
          "output_type": "stream",
          "name": "stdout",
          "text": [
            "Enter a number:4\n",
            "The factorial of 4 is 1\n",
            "The factorial of 4 is 2\n",
            "The factorial of 4 is 6\n",
            "The factorial of 4 is 24\n"
          ]
        }
      ]
    },
    {
      "cell_type": "code",
      "source": [
        "# 6)Write a Python program to get the Fibonacci series of given range.\n",
        "\n",
        "n = int(input(\"Enter a number: \"))\n",
        "\n",
        "a = 0\n",
        "b = 1\n",
        "\n",
        "print(\"Fibonacci series:\")\n",
        "for i in range(n):\n",
        "    print(a, end=' ')\n",
        "    c = a + b\n",
        "    a = b\n",
        "    b = c"
      ],
      "metadata": {
        "colab": {
          "base_uri": "https://localhost:8080/"
        },
        "id": "wY_gGNRht3s7",
        "outputId": "ff7c777b-09a7-4d76-a619-35f37bdd76db"
      },
      "execution_count": null,
      "outputs": [
        {
          "output_type": "stream",
          "name": "stdout",
          "text": [
            "Enter a number: 10\n",
            "Fibonacci series:\n",
            "0 1 1 2 3 5 8 13 21 34 "
          ]
        }
      ]
    },
    {
      "cell_type": "code",
      "source": [
        "# 7)How memory is managed in Python?\n",
        "# Python handles memory automatically using:\n",
        "# Reference counting\n",
        "# Garbage collection\n",
        "# Dynamic memory allocation\n",
        "# Internal memory optimizations"
      ],
      "metadata": {
        "id": "1s88AvEAwBUE"
      },
      "execution_count": null,
      "outputs": []
    },
    {
      "cell_type": "code",
      "source": [
        "# 8)What is the purpose continuing statement in python?\n",
        "# It helps skip specific conditions in a loop without stopping the whole loop."
      ],
      "metadata": {
        "id": "HObkKUtdwWRe"
      },
      "execution_count": null,
      "outputs": []
    },
    {
      "cell_type": "code",
      "source": [
        "# 9) Write python program that swap two number with temp variable\n",
        "# and without temp variable.\n",
        "\n",
        "a = int(input(\"Enter the value of a:\"))\n",
        "b = int(input(\"Enter the value of b:\"))\n",
        "\n",
        "temp = a\n",
        "a = b\n",
        "b = temp\n",
        "\n",
        "print(\"After swapping: a =\", a, \"b =\", b)"
      ],
      "metadata": {
        "colab": {
          "base_uri": "https://localhost:8080/"
        },
        "id": "pnv4DJgEwq9F",
        "outputId": "95b91162-abba-465b-9e76-17bc17a70ea6"
      },
      "execution_count": null,
      "outputs": [
        {
          "output_type": "stream",
          "name": "stdout",
          "text": [
            "Enter the value of a:10\n",
            "Enter the value of b:20\n",
            "After swapping: a = 20 b = 10\n"
          ]
        }
      ]
    },
    {
      "cell_type": "code",
      "source": [
        "# 10) Write a Python program to find whether a given number is even\n",
        "# or odd, print out an appropriate message to the user.\n",
        "\n",
        "num = int(input(\"Enter a number:\"))\n",
        "\n",
        "if num % 2 == 0:\n",
        "    print(num, \"is an even number\")\n",
        "else:\n",
        "    print(num, \"is an odd number\")"
      ],
      "metadata": {
        "colab": {
          "base_uri": "https://localhost:8080/"
        },
        "id": "6JX8r3MUxV30",
        "outputId": "79d532f9-a033-4b07-9826-a20fed3aa6af"
      },
      "execution_count": null,
      "outputs": [
        {
          "output_type": "stream",
          "name": "stdout",
          "text": [
            "Enter a number:5\n",
            "5 is an odd number\n"
          ]
        }
      ]
    },
    {
      "cell_type": "code",
      "source": [
        "# 11) Write a Python program to test whether a passed letter is a vowel\n",
        "# or not.\n",
        "\n",
        "letter = input(\"Enter a letter: \")\n",
        "\n",
        "if letter in (\"a\", \"e\", \"i\", \"o\", \"u\"):\n",
        "    print(f\"{letter} is a vowel\")\n",
        "else:\n",
        "    print(f\"{letter} is not a vowel\")"
      ],
      "metadata": {
        "colab": {
          "base_uri": "https://localhost:8080/"
        },
        "id": "OPl7u8JfyCRE",
        "outputId": "6409e56c-35d3-4a14-a13b-aa50fb7a4dd6"
      },
      "execution_count": null,
      "outputs": [
        {
          "output_type": "stream",
          "name": "stdout",
          "text": [
            "Enter a letter: i\n",
            "i is a vowel\n"
          ]
        }
      ]
    },
    {
      "cell_type": "code",
      "source": [
        "# 12) Write a Python program to sum of three given integers. However, if\n",
        "# two values are equal sum will be zero.\n",
        "\n",
        "a = int(input(\"Enter first number: \"))\n",
        "b = int(input(\"Enter second number: \"))\n",
        "c = int(input(\"Enter third number: \"))\n",
        "\n",
        "if a == b or b == c or a == c:\n",
        "  print(\"Sum is 0 because two values are equal.\")\n",
        "else:\n",
        "  print(\"Sum is\", a+b+c)"
      ],
      "metadata": {
        "colab": {
          "base_uri": "https://localhost:8080/"
        },
        "id": "gg3u2hLnylzE",
        "outputId": "bc4e7627-27d5-4b4b-bb60-0e636f3215f5"
      },
      "execution_count": null,
      "outputs": [
        {
          "output_type": "stream",
          "name": "stdout",
          "text": [
            "Enter first number: 4\n",
            "Enter second number: 4\n",
            "Enter third number: 6\n",
            "Sum is 0 because two values are equal.\n"
          ]
        }
      ]
    },
    {
      "cell_type": "code",
      "source": [
        "# 13) Write a Python program that will return true if the two given\n",
        "# integer values are equal or their sum or difference is 5.\n",
        "\n",
        "a = int(input(\"Enter first number:\"))\n",
        "b = int(input(\"Enter second number:\"))\n",
        "\n",
        "if a == b or abs(a - b) == 5 or a + b == 5:\n",
        "    print(\"True\")\n",
        "else:\n",
        "    print(\"False\")"
      ],
      "metadata": {
        "colab": {
          "base_uri": "https://localhost:8080/"
        },
        "id": "nhJbJD2N0D6x",
        "outputId": "ca791fb9-cdf7-452f-9df0-89a04326e8ec"
      },
      "execution_count": null,
      "outputs": [
        {
          "output_type": "stream",
          "name": "stdout",
          "text": [
            "Enter first number:6\n",
            "Enter second number:6\n",
            "True\n"
          ]
        }
      ]
    },
    {
      "cell_type": "code",
      "source": [
        "# 14)Write a python program to sum of the first n positive integers.\n",
        "\n",
        "n = int(input(\"Enter a number:\"))\n",
        "\n",
        "sum_of_integers = 0\n",
        "\n",
        "for i in range(1, n + 1):\n",
        "    sum_of_integers += i\n",
        "\n",
        "print(\"The sum of the first\", n, \"positive integers is:\", sum_of_integers)"
      ],
      "metadata": {
        "colab": {
          "base_uri": "https://localhost:8080/"
        },
        "id": "hQPULe2W1n3d",
        "outputId": "d00cff9d-c9fc-4ad1-d819-bb1604825fe6"
      },
      "execution_count": null,
      "outputs": [
        {
          "output_type": "stream",
          "name": "stdout",
          "text": [
            "Enter a number:5\n",
            "The sum of the first 5 positive integers is: 15\n"
          ]
        }
      ]
    },
    {
      "cell_type": "code",
      "source": [
        "# 15)Write a Python program to calculate the length of a string.\n",
        "\n",
        "text = input(\"Enter a string:\")\n",
        "\n",
        "length = len(text)\n",
        "\n",
        "print(\"The length of the string is:\", length)"
      ],
      "metadata": {
        "colab": {
          "base_uri": "https://localhost:8080/"
        },
        "id": "8LrciLBS3P9u",
        "outputId": "ce109ef0-f666-47f5-a882-d9536580ad11"
      },
      "execution_count": null,
      "outputs": [
        {
          "output_type": "stream",
          "name": "stdout",
          "text": [
            "Enter a string:Bharat\n",
            "The length of the string is: 6\n"
          ]
        }
      ]
    },
    {
      "cell_type": "code",
      "source": [
        "# 16) Write a Python program to count the number of characters\n",
        "# (character frequency) in a string\n",
        "\n",
        "text = input(\"Enter a string:\")\n",
        "\n",
        "for char in text:\n",
        "    print(char,\"=\",text.count(char))"
      ],
      "metadata": {
        "colab": {
          "base_uri": "https://localhost:8080/"
        },
        "id": "RMDjkl9W31VD",
        "outputId": "bc526155-607e-407e-93f6-2c41c4c220ef"
      },
      "execution_count": null,
      "outputs": [
        {
          "output_type": "stream",
          "name": "stdout",
          "text": [
            "Enter a string:bharat\n",
            "b = 1\n",
            "h = 1\n",
            "a = 2\n",
            "r = 1\n",
            "a = 2\n",
            "t = 1\n"
          ]
        }
      ]
    },
    {
      "cell_type": "code",
      "source": [
        "# 17)What are negative indexes and why are they used?\n",
        "# In Python, negative indexes are used to access elements from the end of a list, string, or tuple.\n",
        "\n",
        "# To easily access the end of a sequence without knowing its exact length.\n",
        "# Makes code cleaner and more readable when working from the back of a list or string."
      ],
      "metadata": {
        "id": "5RBwlqpz4i46"
      },
      "execution_count": null,
      "outputs": []
    },
    {
      "cell_type": "code",
      "source": [
        "# 18)Write a Python program to count occurrences of a substring in a string.\n",
        "\n",
        "text = input(\"Enter a string:\")\n",
        "sub = input(\"Enter a substring:\")\n",
        "\n",
        "print(\"Count:\",text.count(sub))"
      ],
      "metadata": {
        "colab": {
          "base_uri": "https://localhost:8080/"
        },
        "id": "Ggg2A1xV5Kv9",
        "outputId": "8135407e-ec0b-47f0-91c5-d535160a837e"
      },
      "execution_count": null,
      "outputs": [
        {
          "output_type": "stream",
          "name": "stdout",
          "text": [
            "Enter a string:bharat kumar\n",
            "Enter a substring:bharat\n",
            "Count: 1\n"
          ]
        }
      ]
    },
    {
      "cell_type": "code",
      "source": [
        "# 19) Write a Python program to count the occurrences of each word in a given sentence\n",
        "\n",
        "sentence = input(\"Enter a sentence:\")\n",
        "\n",
        "words = sentence.split()\n",
        "\n",
        "for word in words:\n",
        "    print(word, \"=\", words.count(word))"
      ],
      "metadata": {
        "colab": {
          "base_uri": "https://localhost:8080/"
        },
        "id": "cnVCZhLF52lT",
        "outputId": "3adce36d-be21-4121-e867-4ab733838ed8"
      },
      "execution_count": null,
      "outputs": [
        {
          "output_type": "stream",
          "name": "stdout",
          "text": [
            "Enter a sentence:bharat kumar bharat\n",
            "bharat = 2\n",
            "kumar = 1\n",
            "bharat = 2\n"
          ]
        }
      ]
    },
    {
      "cell_type": "code",
      "source": [
        "# 20) Write a Python program to get a single string from two given strings,\n",
        "# separated by a space and swap the first two characters of each string.\n",
        "\n",
        "a = input(\"Enter first string:\")\n",
        "b = input(\"Enter second string:\")\n",
        "\n",
        "new_a = b[:2] + a[2:]\n",
        "new_b = a[:2] + b[2:]\n",
        "\n",
        "print(new_a + \" \" + new_b)"
      ],
      "metadata": {
        "colab": {
          "base_uri": "https://localhost:8080/"
        },
        "id": "IvqHH5zc8KXX",
        "outputId": "b52eaad5-c892-4e49-fa4b-090945fa4ca7"
      },
      "execution_count": null,
      "outputs": [
        {
          "output_type": "stream",
          "name": "stdout",
          "text": [
            "Enter first string:hello\n",
            "Enter second string:world\n",
            "wollo herld\n"
          ]
        }
      ]
    },
    {
      "cell_type": "code",
      "source": [
        "# 21) Write a Python program to add 'in' at the end of a given string (length\n",
        "# should be at least 3). If the given string already ends with 'ing' then\n",
        "# add 'ly' instead if the string length of the given string is less than 3,\n",
        "# leave it unchanged."
      ],
      "metadata": {
        "id": "PN16N1AA9_eZ"
      },
      "execution_count": null,
      "outputs": []
    },
    {
      "cell_type": "code",
      "source": [
        "# 22) Write a Python function to reverses a string if its length is a multiple\n",
        "# of 4.\n",
        "\n",
        "def reverse_string(s):\n",
        "    if len(s) % 4 == 0:\n",
        "        return s[::-1]\n",
        "    return s\n",
        "\n",
        "print(reverse_string(\"test\"))\n",
        "print(reverse_string(\"hello\"))"
      ],
      "metadata": {
        "colab": {
          "base_uri": "https://localhost:8080/"
        },
        "id": "svxYszdpVea5",
        "outputId": "b8e09b86-1eff-43b3-e32b-8c9a028d1415"
      },
      "execution_count": null,
      "outputs": [
        {
          "output_type": "stream",
          "name": "stdout",
          "text": [
            "tset\n",
            "hello\n"
          ]
        }
      ]
    },
    {
      "cell_type": "code",
      "source": [
        "# 23) Write a Python program to get a string made of the first 2 and the last\n",
        "# 2 chars from a given a string. If the string length is less than 2, return\n",
        "# instead of the empty string.\n",
        "\n",
        "def string_ends(s):\n",
        "    if len(s) < 2:\n",
        "        return ''\n",
        "    return s[:2] + s[-2:]\n",
        "\n",
        "print(string_ends(\"python\"))\n",
        "print(string_ends(\"hi\"))\n",
        "print(string_ends(\"a\"))"
      ],
      "metadata": {
        "colab": {
          "base_uri": "https://localhost:8080/"
        },
        "id": "HJ43BUMbXDA_",
        "outputId": "016e1e03-a30b-4156-e29b-3a4a445aca39"
      },
      "execution_count": null,
      "outputs": [
        {
          "output_type": "stream",
          "name": "stdout",
          "text": [
            "pyon\n",
            "hihi\n",
            "\n"
          ]
        }
      ]
    },
    {
      "cell_type": "code",
      "source": [
        "# 24)Write a Python function to insert a string in the middle of a string.\n",
        "\n",
        "def insert_middle(a,b):\n",
        "    mid = len(a) // 2\n",
        "    return a[:mid] + b + a[mid:]\n",
        "\n",
        "print(insert_middle(\"helloworld\",\"abcd\"))"
      ],
      "metadata": {
        "colab": {
          "base_uri": "https://localhost:8080/"
        },
        "id": "PV337XHtYfMW",
        "outputId": "c230d00f-93f6-4967-f362-276e0e3a6cde"
      },
      "execution_count": null,
      "outputs": [
        {
          "output_type": "stream",
          "name": "stdout",
          "text": [
            "helloabcdworld\n"
          ]
        }
      ]
    },
    {
      "cell_type": "code",
      "source": [
        "# 25)What is List? How will you reverse a list?\n",
        "# A list is a built-in data type in Python that is used to store multiple items in a single variable. Lists are ordered, changeable (mutable), and allow duplicate values.\n",
        "\n",
        "my_list = [1, 2, 3, 4]\n",
        "my_list.reverse()\n",
        "my_list"
      ],
      "metadata": {
        "colab": {
          "base_uri": "https://localhost:8080/"
        },
        "id": "g_VZ3TmwZpkc",
        "outputId": "f9a54402-4cb3-439a-b701-1ff301e4166a"
      },
      "execution_count": null,
      "outputs": [
        {
          "output_type": "execute_result",
          "data": {
            "text/plain": [
              "[4, 3, 2, 1]"
            ]
          },
          "metadata": {},
          "execution_count": 27
        }
      ]
    },
    {
      "cell_type": "code",
      "source": [
        "# 26)How will you remove last object from a list?\n",
        "\n",
        "list = [10,20,30,40]\n",
        "list.pop()\n",
        "list"
      ],
      "metadata": {
        "colab": {
          "base_uri": "https://localhost:8080/"
        },
        "id": "zyWqsFloaBnc",
        "outputId": "4b11e020-58c3-42b8-fe44-5eef03369e2c"
      },
      "execution_count": null,
      "outputs": [
        {
          "output_type": "execute_result",
          "data": {
            "text/plain": [
              "[10, 20, 30]"
            ]
          },
          "metadata": {},
          "execution_count": 31
        }
      ]
    },
    {
      "cell_type": "code",
      "source": [
        "# 27)Suppose list1 is [2, 33, 222, 14, and 25], what is list1 [-1]?\n",
        "\n",
        "list1 = [2,33,222,14,25]\n",
        "list1[-1]"
      ],
      "metadata": {
        "colab": {
          "base_uri": "https://localhost:8080/"
        },
        "id": "_ky8y51aait5",
        "outputId": "761a092b-3781-4bfd-f83c-c4d21becb559"
      },
      "execution_count": null,
      "outputs": [
        {
          "output_type": "execute_result",
          "data": {
            "text/plain": [
              "25"
            ]
          },
          "metadata": {},
          "execution_count": 35
        }
      ]
    },
    {
      "cell_type": "code",
      "source": [
        "# 28)Differentiate between append () and extend () methods?\n",
        "\n",
        "# The main difference between the append() and extend() functions in Python is how they add elements to a list.\n",
        "# append() adds a single element to the end of the list as a whole.\n",
        "# extend() adds multiple elements from an iterable (such as a list, tuple, or set) to the list."
      ],
      "metadata": {
        "id": "uSduq-5lbCLF"
      },
      "execution_count": null,
      "outputs": []
    },
    {
      "cell_type": "code",
      "source": [
        "# 29) Write a Python function to get the largest number, smallest num\n",
        "# and sum of all from a list.\n",
        "\n",
        "def list_info(numbers):\n",
        "    return max(numbers), min(numbers), sum(numbers)\n",
        "\n",
        "numbers = [10, 20, 30, 5, 15]\n",
        "largest, smallest, total_sum = list_info(numbers)\n",
        "print(\"Largest:\", largest)\n",
        "print(\"Smallest:\", smallest)\n",
        "print(\"Sum:\", total_sum)"
      ],
      "metadata": {
        "colab": {
          "base_uri": "https://localhost:8080/"
        },
        "id": "a9oaAZ3dbpFE",
        "outputId": "e2472213-0a19-4749-8109-dc9ae6b47ea6"
      },
      "execution_count": null,
      "outputs": [
        {
          "output_type": "stream",
          "name": "stdout",
          "text": [
            "Largest: 30\n",
            "Smallest: 5\n",
            "Sum: 80\n"
          ]
        }
      ]
    },
    {
      "cell_type": "code",
      "source": [
        "# 30)How will you compare two lists?\n",
        "\n",
        "# In Python, you can compare two lists using comparison operators. Python allows you to directly compare lists to see if they are:\n",
        "# Equal\n",
        "# Greater than/less than"
      ],
      "metadata": {
        "id": "20WuwMM7dkXt"
      },
      "execution_count": null,
      "outputs": []
    },
    {
      "cell_type": "code",
      "source": [
        "# 31) Write a Python program to count the number of strings where the string\n",
        "# length is 2 or more and the first and last character are same from a given list of strings.\n",
        "\n",
        "def count_strings(strings):\n",
        "    count = 0\n",
        "    for s in strings:\n",
        "        if len(s) >= 2 and s[0] == s[-1]:\n",
        "            count += 1\n",
        "        return count\n",
        "\n",
        "strings = [\"aba\",\"xyz\",\"abc\",\"a\",\"abba\",\"xyx\"]\n",
        "print(count_strings(strings))"
      ],
      "metadata": {
        "colab": {
          "base_uri": "https://localhost:8080/"
        },
        "id": "RsYvvgQYd2VD",
        "outputId": "d6d7fa3f-b0c3-4c95-e3e8-b05c87f89991"
      },
      "execution_count": null,
      "outputs": [
        {
          "output_type": "stream",
          "name": "stdout",
          "text": [
            "1\n"
          ]
        }
      ]
    },
    {
      "cell_type": "code",
      "source": [
        "# 32)Write a Python program to remove duplicates from a list.\n",
        "\n",
        "def remove_duplicates(my_list):\n",
        "    return set(my_list)\n",
        "\n",
        "my_list = [1,2,2,3,4,4,5]\n",
        "print(remove_duplicates(my_list))"
      ],
      "metadata": {
        "colab": {
          "base_uri": "https://localhost:8080/"
        },
        "id": "EXC3jrZyfFWt",
        "outputId": "b55a37ba-4e47-45c1-fc8b-3f283144962a"
      },
      "execution_count": null,
      "outputs": [
        {
          "output_type": "stream",
          "name": "stdout",
          "text": [
            "{1, 2, 3, 4, 5}\n"
          ]
        }
      ]
    },
    {
      "cell_type": "code",
      "source": [
        "# 33)Write a Python program to check a list is empty or not.\n",
        "\n",
        "def is_empty(my_list):\n",
        "    return \"Empty\" if not my_list else \"Not empty\"\n",
        "\n",
        "print(is_empty([]))\n",
        "print(is_empty([1,2,3]))"
      ],
      "metadata": {
        "colab": {
          "base_uri": "https://localhost:8080/"
        },
        "id": "eBpRpWuog23l",
        "outputId": "34e25c38-578f-4ee6-e2f9-518d2ddb099a"
      },
      "execution_count": null,
      "outputs": [
        {
          "output_type": "stream",
          "name": "stdout",
          "text": [
            "Empty\n",
            "Not empty\n"
          ]
        }
      ]
    },
    {
      "cell_type": "code",
      "source": [
        "# 34) Write a Python function that takes two lists and returns true if they\n",
        "# have at least one common member.\n",
        "\n",
        "def have_common_member(list1, list2):\n",
        "    for item in list1:\n",
        "        if item in list2:\n",
        "            return True\n",
        "    return False\n",
        "\n",
        "list1 = [1, 2, 3]\n",
        "list2 = [3, 4, 5]\n",
        "print(have_common_member(list1, list2))"
      ],
      "metadata": {
        "colab": {
          "base_uri": "https://localhost:8080/"
        },
        "id": "Ucm3rT_Ph30A",
        "outputId": "8eb05bac-0351-4401-ddfe-ed47e490e8ab"
      },
      "execution_count": null,
      "outputs": [
        {
          "output_type": "stream",
          "name": "stdout",
          "text": [
            "True\n"
          ]
        }
      ]
    },
    {
      "cell_type": "code",
      "source": [
        "# 35) Write a Python program to generate and print a list of first and last 5\n",
        "# elements where the values are square of numbers between 1 and 30.\n",
        "\n",
        "squares = [x*x for x in range(1, 31)]\n",
        "print(\"First 5:\", squares[:5])\n",
        "print(\"Last 5:\", squares[-5:])"
      ],
      "metadata": {
        "colab": {
          "base_uri": "https://localhost:8080/"
        },
        "id": "v9WN0tfzjaTP",
        "outputId": "5d7952b4-ba3d-4dd0-901e-d8c726380db9"
      },
      "execution_count": null,
      "outputs": [
        {
          "output_type": "stream",
          "name": "stdout",
          "text": [
            "First 5: [1, 4, 9, 16, 25]\n",
            "Last 5: [676, 729, 784, 841, 900]\n"
          ]
        }
      ]
    },
    {
      "cell_type": "code",
      "source": [
        "# 36) Write a Python function that takes a list and returns a new list with\n",
        "# unique elements of the first list.\n",
        "\n",
        "def unique_list(my_list):\n",
        "    return set(my_list)\n",
        "\n",
        "print(unique_list([1,2,2,3,4,4,5]))"
      ],
      "metadata": {
        "colab": {
          "base_uri": "https://localhost:8080/"
        },
        "id": "0pizqbZ5lIyM",
        "outputId": "eda5ed69-b9f0-4f6e-d4de-bef260d9a85c"
      },
      "execution_count": null,
      "outputs": [
        {
          "output_type": "stream",
          "name": "stdout",
          "text": [
            "{1, 2, 3, 4, 5}\n"
          ]
        }
      ]
    },
    {
      "cell_type": "code",
      "source": [
        "# 37)Write a Python program to convert a list of characters into a string.\n",
        "\n",
        "chars = ['H','e','l','l','o']\n",
        "result = ''.join(chars)\n",
        "print(result)"
      ],
      "metadata": {
        "colab": {
          "base_uri": "https://localhost:8080/"
        },
        "id": "CV_k6qDvmI8p",
        "outputId": "a86d5352-749b-4ae7-9705-ef97430e8d1b"
      },
      "execution_count": null,
      "outputs": [
        {
          "output_type": "stream",
          "name": "stdout",
          "text": [
            "Hello\n"
          ]
        }
      ]
    },
    {
      "cell_type": "code",
      "source": [
        "# 38)Write a Python program to select an item randomly from a list.\n",
        "\n",
        "import random\n",
        "\n",
        "items = [10,20,30,40,50]\n",
        "print(random.choice(items))"
      ],
      "metadata": {
        "colab": {
          "base_uri": "https://localhost:8080/"
        },
        "id": "pYY3Ph0kmzfR",
        "outputId": "cbc734ef-5e0e-497e-d8be-eaf049ec6a2c"
      },
      "execution_count": null,
      "outputs": [
        {
          "output_type": "stream",
          "name": "stdout",
          "text": [
            "30\n"
          ]
        }
      ]
    },
    {
      "cell_type": "code",
      "source": [
        "# 39)Write a Python program to find the second smallest number in a list.\n",
        "\n",
        "num = [4,1,7,3,2]\n",
        "num.sort()\n",
        "print(\"Second smallest:\", num[1])"
      ],
      "metadata": {
        "colab": {
          "base_uri": "https://localhost:8080/"
        },
        "id": "eo1NrcJxnrWn",
        "outputId": "e11f347f-1f5f-4af7-8779-3e1c3d9deb10"
      },
      "execution_count": null,
      "outputs": [
        {
          "output_type": "stream",
          "name": "stdout",
          "text": [
            "Second smallest: 2\n"
          ]
        }
      ]
    },
    {
      "cell_type": "code",
      "source": [
        "# 40)Write a Python program to get unique values from a list\n",
        "\n",
        "def unique_list(my_list):\n",
        "    return set(my_list)\n",
        "\n",
        "print(unique_list([1,2,2,3,4,4,5]))"
      ],
      "metadata": {
        "colab": {
          "base_uri": "https://localhost:8080/"
        },
        "id": "TjEF2ZXOovVU",
        "outputId": "c1245e3d-a642-4f8e-cd8d-751f3ca12202"
      },
      "execution_count": null,
      "outputs": [
        {
          "output_type": "stream",
          "name": "stdout",
          "text": [
            "{1, 2, 3, 4, 5}\n"
          ]
        }
      ]
    },
    {
      "cell_type": "code",
      "source": [
        "# 41)Write a Python program to check whether a list contains a sub list\n",
        "\n",
        "def contains_sublist(main_list, sub_list):\n",
        "    return str(sub_list)[1:-1] in str(main_list)\n",
        "\n",
        "main_list = [1,2,3,4,5]\n",
        "sub_list = [2,3]\n",
        "\n",
        "if contains_sublist(main_list, sub_list):\n",
        "    print(\"The main list contains the sublist.\")\n",
        "else:\n",
        "    print(\"The main list does not contain the sublist.\")"
      ],
      "metadata": {
        "colab": {
          "base_uri": "https://localhost:8080/"
        },
        "id": "xcALmGlnFOft",
        "outputId": "3fd14f1b-ec5c-49c8-840c-587ad20e8740"
      },
      "execution_count": null,
      "outputs": [
        {
          "output_type": "stream",
          "name": "stdout",
          "text": [
            "The main list contains the sublist.\n"
          ]
        }
      ]
    },
    {
      "cell_type": "code",
      "source": [
        "# 42)Write a Python program to split a list into different variables.\n",
        "\n",
        "my_list = [10,20,30]\n",
        "\n",
        "a,b,c = my_list\n",
        "\n",
        "print(\"a =\", a)\n",
        "print(\"b =\", b)\n",
        "print(\"c =\", c)"
      ],
      "metadata": {
        "colab": {
          "base_uri": "https://localhost:8080/"
        },
        "id": "bGCSD0_vHbMo",
        "outputId": "25096c7c-8bfd-48fd-c019-4ea79da0a4ba"
      },
      "execution_count": null,
      "outputs": [
        {
          "output_type": "stream",
          "name": "stdout",
          "text": [
            "a = 10\n",
            "b = 20\n",
            "c = 30\n"
          ]
        }
      ]
    },
    {
      "cell_type": "markdown",
      "source": [
        "43)What is tuple? Difference between list and tuple.\n",
        "\n",
        "A tuple is a collection of items that is ordered, immutable can contain different data types\n",
        "\n",
        "In Python, lists and tuples both store collections of data, but differ in mutability, performance and memory usage. Lists are mutable, allowing modifications, while tuples are immutable. Choosing between them depends on whether you need to modify the data or prioritize performance and memory efficiency."
      ],
      "metadata": {
        "id": "PGt7J-40IQ0l"
      }
    },
    {
      "cell_type": "code",
      "source": [
        "# 44)Write a Python program to create a tuple with different data types.\n",
        "\n",
        "my_tuple = (101,\"Bharat\",75.5,True)\n",
        "\n",
        "print(my_tuple)"
      ],
      "metadata": {
        "colab": {
          "base_uri": "https://localhost:8080/"
        },
        "id": "Qv1yijjQJeH_",
        "outputId": "0b76e133-51cc-4df2-83ff-081985cd6d5d"
      },
      "execution_count": null,
      "outputs": [
        {
          "output_type": "stream",
          "name": "stdout",
          "text": [
            "(101, 'Bharat', 75.5, True)\n"
          ]
        }
      ]
    },
    {
      "cell_type": "code",
      "source": [
        "# 45)Write a Python program to unzip a list of tuples into individual lists.\n",
        "\n",
        "list_of_tuple = [(1, 'a'),(2, 'b'),(3, 'c')]\n",
        "\n",
        "list1, list2 = zip(*list_of_tuple)\n",
        "\n",
        "print(\"List 1:\", list1)\n",
        "print(\"List 2:\", list2)"
      ],
      "metadata": {
        "colab": {
          "base_uri": "https://localhost:8080/"
        },
        "id": "5PbOAjpGKOxZ",
        "outputId": "ccb93e37-34f9-4a92-9bdd-c15f06555d4a"
      },
      "execution_count": null,
      "outputs": [
        {
          "output_type": "stream",
          "name": "stdout",
          "text": [
            "List 1: (1, 2, 3)\n",
            "List 2: ('a', 'b', 'c')\n"
          ]
        }
      ]
    },
    {
      "cell_type": "code",
      "source": [
        "# 46)Write a Python program to convert a list of tuples into a dictionary.\n",
        "\n",
        "my_list = ([1, 'a'],[2, 'b'],[3, 'c'])\n",
        "\n",
        "my_dict = dict(my_list)\n",
        "\n",
        "print(my_dict)"
      ],
      "metadata": {
        "colab": {
          "base_uri": "https://localhost:8080/"
        },
        "id": "Diad2ZGkLt7e",
        "outputId": "78a484af-ef0c-4f91-faf5-e0af9a650f4a"
      },
      "execution_count": null,
      "outputs": [
        {
          "output_type": "stream",
          "name": "stdout",
          "text": [
            "{1: 'a', 2: 'b', 3: 'c'}\n"
          ]
        }
      ]
    },
    {
      "cell_type": "code",
      "source": [
        "# 47)How will you create a dictionary using tuples in python?\n",
        "\n",
        "# To create a dictionary using tuples in Python, you can treat each tuple as a (key, value) pair. Here's the simplest way to create a dictionary using tuples:\n",
        "\n",
        "# List of tuples\n",
        "tuple_list = [(1, 'a'), (2, 'b'), (3, 'c')]\n",
        "\n",
        "my_dict = dict(tuple_list)\n",
        "\n",
        "print(my_dict)\n"
      ],
      "metadata": {
        "colab": {
          "base_uri": "https://localhost:8080/"
        },
        "id": "6lWtzpkSNGuJ",
        "outputId": "f834ed40-e6b4-42f0-96b1-3dbb6fd3aefe"
      },
      "execution_count": null,
      "outputs": [
        {
          "output_type": "stream",
          "name": "stdout",
          "text": [
            "{1: 'a', 2: 'b', 3: 'c'}\n"
          ]
        }
      ]
    },
    {
      "cell_type": "code",
      "source": [
        "# 48)Write a Python script to sort (ascending and descending) a dictionary by value.\n",
        "\n",
        "my_dict = {'a': 3, 'b': 2, 'c': 1, 'd': 4}\n",
        "\n",
        "ascending_dict = dict(sorted(my_dict.items(), key=lambda x: x[1]))\n",
        "\n",
        "descending_dict = dict(sorted(my_dict.items(), key=lambda x: x[1], reverse=True))\n",
        "\n",
        "print(\"Ascending order:\", ascending_dict)\n",
        "print(\"Descending order:\", descending_dict)"
      ],
      "metadata": {
        "colab": {
          "base_uri": "https://localhost:8080/"
        },
        "id": "IFEaSTrqNc6s",
        "outputId": "05a9489a-27ab-44fe-d364-3f13033fd08e"
      },
      "execution_count": null,
      "outputs": [
        {
          "output_type": "stream",
          "name": "stdout",
          "text": [
            "Ascending order: {'c': 1, 'b': 2, 'a': 3, 'd': 4}\n",
            "Descending order: {'d': 4, 'a': 3, 'b': 2, 'c': 1}\n"
          ]
        }
      ]
    },
    {
      "cell_type": "code",
      "source": [
        "# 49)Write a Python script to concatenate following dictionaries to create a new one.\n",
        "\n",
        "dict1 = {'a': 1, 'b': 2}\n",
        "dict2 = {'c': 3, 'd': 4}\n",
        "dict3 = {'e': 5, 'f': 6}\n",
        "\n",
        "new_dict = {}\n",
        "\n",
        "for i in (dict1, dict2, dict3):\n",
        "    new_dict.update(i)\n",
        "\n",
        "print(\"Concatenate dictionary:\", new_dict)"
      ],
      "metadata": {
        "colab": {
          "base_uri": "https://localhost:8080/"
        },
        "id": "jCoSmmbMO0P8",
        "outputId": "a95e23c6-d3c2-4a4f-d337-fd199503abd7"
      },
      "execution_count": null,
      "outputs": [
        {
          "output_type": "stream",
          "name": "stdout",
          "text": [
            "Concatenate dictionary: {'a': 1, 'b': 2, 'c': 3, 'd': 4, 'e': 5, 'f': 6}\n"
          ]
        }
      ]
    },
    {
      "cell_type": "code",
      "source": [
        "# 50)Write a Python script to check if a given key already exists in a dictionary.\n",
        "\n",
        "my_dict = {'a': 1, 'b': 2, 'c': 3}\n",
        "\n",
        "if 'c' in my_dict:\n",
        "    print(\"Key exists!\")\n",
        "else:\n",
        "    print(\"Key does not exist!\")"
      ],
      "metadata": {
        "colab": {
          "base_uri": "https://localhost:8080/"
        },
        "id": "83TjzeEhQN_G",
        "outputId": "ecaf3001-acbe-454f-bdad-e57129664be4"
      },
      "execution_count": null,
      "outputs": [
        {
          "output_type": "stream",
          "name": "stdout",
          "text": [
            "Key exists!\n"
          ]
        }
      ]
    },
    {
      "cell_type": "code",
      "source": [
        "# 51)How Do You Traverse Through a Dictionary Object in Python?\n",
        "\n",
        "# To traverse (or iterate) through a dictionary in Python, you can use a for loop. Here are different ways to iterate through the dictionary:\n",
        "# 1. Iterating through keys\n",
        "# 2. Iterating through values\n",
        "# 3. Iterating through key-value pairs"
      ],
      "metadata": {
        "id": "Pd8UiMcuRPcT"
      },
      "execution_count": null,
      "outputs": []
    },
    {
      "cell_type": "code",
      "source": [
        "# 52)How Do You Check the Presence of a Key in A Dictionary?\n",
        "\n",
        "# Here is the example:\n",
        "\n",
        "my_dict = {'a': 1, 'b': 2, 'c': 3}\n",
        "\n",
        "if 'c' in my_dict:\n",
        "    print(\"Key exists!\")\n",
        "else:\n",
        "    print(\"Key does not exist!\")"
      ],
      "metadata": {
        "colab": {
          "base_uri": "https://localhost:8080/"
        },
        "id": "eHplQB6KR73S",
        "outputId": "73134bb1-f894-4c7f-d0da-118b45346fdb"
      },
      "execution_count": null,
      "outputs": [
        {
          "output_type": "stream",
          "name": "stdout",
          "text": [
            "Key exists!\n"
          ]
        }
      ]
    },
    {
      "cell_type": "code",
      "source": [
        "# 53)Write a Python script to print a dictionary where the keys are numbers between 1 and 15.\n",
        "\n",
        "my_dict = {}\n",
        "\n",
        "for i in range(1, 16):\n",
        "    my_dict[i] = i\n",
        "\n",
        "print(my_dict)"
      ],
      "metadata": {
        "colab": {
          "base_uri": "https://localhost:8080/"
        },
        "id": "dBcgEDMBSTkS",
        "outputId": "0c2b7778-7e94-45ba-ac98-8c45db684121"
      },
      "execution_count": null,
      "outputs": [
        {
          "output_type": "stream",
          "name": "stdout",
          "text": [
            "{1: 1, 2: 2, 3: 3, 4: 4, 5: 5, 6: 6, 7: 7, 8: 8, 9: 9, 10: 10, 11: 11, 12: 12, 13: 13, 14: 14, 15: 15}\n"
          ]
        }
      ]
    },
    {
      "cell_type": "code",
      "source": [
        "# 54)Write a Python program to check multiple keys exists in a dictionary\n",
        "\n",
        "dict = {'a': 1, 'b': 2, 'c': 3, 'd': 4}\n",
        "\n",
        "if 'd' in dict and 'b' in dict:\n",
        "    print(\"Multiple keys exist!\")\n",
        "else:\n",
        "    print(\"Multiple keys do not exist!\")"
      ],
      "metadata": {
        "colab": {
          "base_uri": "https://localhost:8080/"
        },
        "id": "5CEK_EzMTajt",
        "outputId": "45f8bb3a-4b51-4e45-b6eb-db530f8d4a15"
      },
      "execution_count": null,
      "outputs": [
        {
          "output_type": "stream",
          "name": "stdout",
          "text": [
            "Multiple keys exist!\n"
          ]
        }
      ]
    },
    {
      "cell_type": "code",
      "source": [
        "# 55)Write a Python script to merge two Python dictionaries\n",
        "\n",
        "dict1 = {'a': 1, 'b': 2}\n",
        "dict2 = {'c': 3, 'd': 4}\n",
        "\n",
        "dict1.update(dict2)\n",
        "\n",
        "print(dict1)"
      ],
      "metadata": {
        "colab": {
          "base_uri": "https://localhost:8080/"
        },
        "id": "IwCNn6jEUcWc",
        "outputId": "f09b8343-3ebc-4fb8-8c58-134d14d52f9e"
      },
      "execution_count": null,
      "outputs": [
        {
          "output_type": "stream",
          "name": "stdout",
          "text": [
            "{'a': 1, 'b': 2, 'c': 3, 'd': 4}\n"
          ]
        }
      ]
    },
    {
      "cell_type": "code",
      "source": [
        "# 56)Write a Python program to map two lists into a dictionary\n",
        "\n",
        "from collections import Counter\n",
        "\n",
        "keys = ['a', 'b', 'c', 'd']\n",
        "values = [400,400,300,400]\n",
        "\n",
        "my_dict = Counter(zip(keys, values))\n",
        "\n",
        "print(my_dict)"
      ],
      "metadata": {
        "colab": {
          "base_uri": "https://localhost:8080/"
        },
        "id": "P24JnpmxVTRN",
        "outputId": "62340164-4393-4c87-9f28-c7514201fd3c"
      },
      "execution_count": null,
      "outputs": [
        {
          "output_type": "stream",
          "name": "stdout",
          "text": [
            "Counter({('a', 400): 1, ('b', 400): 1, ('c', 300): 1, ('d', 400): 1})\n"
          ]
        }
      ]
    },
    {
      "cell_type": "code",
      "source": [
        "# 57)Write a Python program to find the highest 3 values in a dictionary\n",
        "\n",
        "my_dict = {'a': 100, 'b': 200, 'c': 150, 'd': 300, 'e': 50}\n",
        "\n",
        "top_3 = sorted(my_dict.values(), reverse=True)[:3]\n",
        "\n",
        "print(top_3)"
      ],
      "metadata": {
        "colab": {
          "base_uri": "https://localhost:8080/"
        },
        "id": "pdKMD9_Rn11S",
        "outputId": "6f1f44f6-b31b-4a06-dfbb-7e6e4598ae94"
      },
      "execution_count": null,
      "outputs": [
        {
          "output_type": "stream",
          "name": "stdout",
          "text": [
            "[300, 200, 150]\n"
          ]
        }
      ]
    },
    {
      "cell_type": "code",
      "source": [
        "# 58)Write a Python program to combine values in python list of dictionaries.\n",
        "\n",
        "from collections import Counter\n",
        "\n",
        "data = [\n",
        "    {'item': 'item1', 'amount': 400},\n",
        "    {'item': 'item2', 'amount': 300},\n",
        "    {'item': 'item1', 'amount': 750}\n",
        "]\n",
        "\n",
        "result = Counter()\n",
        "\n",
        "for d in data:\n",
        "    result[d['item']] += d['amount']\n",
        "\n",
        "print(result)"
      ],
      "metadata": {
        "colab": {
          "base_uri": "https://localhost:8080/"
        },
        "id": "hw4-LgAmo66A",
        "outputId": "5c20c51d-f349-4d4f-e2ec-0ef557b31ea7"
      },
      "execution_count": null,
      "outputs": [
        {
          "output_type": "stream",
          "name": "stdout",
          "text": [
            "Counter({'item1': 1150, 'item2': 300})\n"
          ]
        }
      ]
    },
    {
      "cell_type": "code",
      "source": [
        "# 59)Write a Python program to create a dictionary from a string.\n",
        "# Note: Track the count of the letters from the string.\n",
        "\n",
        "text = \"python programming\"\n",
        "count = {}\n",
        "\n",
        "for char in text:\n",
        "    if char != ' ':\n",
        "        count[char] = count.get(char, 0) + 1\n",
        "\n",
        "print(count)"
      ],
      "metadata": {
        "colab": {
          "base_uri": "https://localhost:8080/"
        },
        "id": "HSeb2BeWrxWQ",
        "outputId": "5093fd2d-e1cc-45bb-971c-f091508e04ce"
      },
      "execution_count": null,
      "outputs": [
        {
          "output_type": "stream",
          "name": "stdout",
          "text": [
            "{'p': 2, 'y': 1, 't': 1, 'h': 1, 'o': 2, 'n': 2, 'r': 2, 'g': 2, 'a': 1, 'm': 2, 'i': 1}\n"
          ]
        }
      ]
    },
    {
      "cell_type": "code",
      "source": [
        "# 60)Sample string:\n",
        "#  'w3resource' Expected output:\n",
        "# • {'3': 1,’s’: 1, 'r': 2, 'u': 1, 'w': 1, 'c': 1, 'e': 2, 'o': 1}\n",
        "\n",
        "text = \"w3resource\"\n",
        "count = {}\n",
        "\n",
        "for char in text:\n",
        "    count[char] = count.get(char, 0) + 1\n",
        "\n",
        "print(count)"
      ],
      "metadata": {
        "colab": {
          "base_uri": "https://localhost:8080/"
        },
        "id": "ir0wY5N6tZzx",
        "outputId": "adf1797e-99c1-4dd1-fcda-fc6bc3904cf8"
      },
      "execution_count": null,
      "outputs": [
        {
          "output_type": "stream",
          "name": "stdout",
          "text": [
            "{'w': 1, '3': 1, 'r': 2, 'e': 2, 's': 1, 'o': 1, 'u': 1, 'c': 1}\n"
          ]
        }
      ]
    },
    {
      "cell_type": "code",
      "source": [
        "# 61)Write a Python function to calculate the factorial of a number (a\n",
        "# nonnegative integer)\n",
        "\n",
        "def factorial(n):\n",
        "    fact = 1\n",
        "    for i in range(1, n + 1):\n",
        "        fact = fact * i\n",
        "    return fact\n",
        "\n",
        "print(factorial(5))"
      ],
      "metadata": {
        "id": "tL-C-vPcuG6h",
        "colab": {
          "base_uri": "https://localhost:8080/"
        },
        "outputId": "41217cb2-2d49-45ee-ca4f-7dd8e09d430c"
      },
      "execution_count": null,
      "outputs": [
        {
          "output_type": "stream",
          "name": "stdout",
          "text": [
            "120\n"
          ]
        }
      ]
    },
    {
      "cell_type": "code",
      "source": [
        "# 62)Write a Python function to check whether a number is in a given range\n",
        "\n",
        "def is_in_range(num, start, end):\n",
        "    if start <= num <= end:\n",
        "        return True\n",
        "    else:\n",
        "        return False\n",
        "\n",
        "print(is_in_range(5,1,10))\n",
        "print(is_in_range(15,1,10))"
      ],
      "metadata": {
        "colab": {
          "base_uri": "https://localhost:8080/"
        },
        "id": "JbszOheEW9Y9",
        "outputId": "e15f0e20-1808-4b83-c452-11442d6c4003"
      },
      "execution_count": null,
      "outputs": [
        {
          "output_type": "stream",
          "name": "stdout",
          "text": [
            "True\n",
            "False\n"
          ]
        }
      ]
    },
    {
      "cell_type": "code",
      "source": [
        "# 63)Write a Python function to check whether a number is perfect or not.\n",
        "\n",
        "def is_perfect(num):\n",
        "    sum = 0\n",
        "    for i in range(1, num):\n",
        "        if num % i == 0:\n",
        "            sum = sum + i\n",
        "    if sum == num:\n",
        "        print(\"Perfect Number\")\n",
        "    else:\n",
        "        print(\"Not a perfect number\")\n",
        "\n",
        "is_perfect(6)\n",
        "is_perfect(8)"
      ],
      "metadata": {
        "colab": {
          "base_uri": "https://localhost:8080/"
        },
        "id": "9vQ342xuYN1W",
        "outputId": "ab6051fb-a3ce-4ea1-d9ae-e6e7380722ea"
      },
      "execution_count": null,
      "outputs": [
        {
          "output_type": "stream",
          "name": "stdout",
          "text": [
            "Perfect Number\n",
            "Not a perfect number\n"
          ]
        }
      ]
    },
    {
      "cell_type": "code",
      "source": [
        "# 64)Write a Python function that checks whether a passed string is\n",
        "# palindrome or not\n",
        "\n",
        "def is_palindrome(text):\n",
        "    if text == text[::-1]:\n",
        "        print(\"Palindrome\")\n",
        "    else:\n",
        "        print(\"Not palindrome\")\n",
        "\n",
        "is_palindrome(\"madam\")\n",
        "is_palindrome(\"hello\")"
      ],
      "metadata": {
        "colab": {
          "base_uri": "https://localhost:8080/"
        },
        "id": "r96UpOaFaJYT",
        "outputId": "4c7d5358-01b2-4758-c2f3-aeec293bdf9e"
      },
      "execution_count": null,
      "outputs": [
        {
          "output_type": "stream",
          "name": "stdout",
          "text": [
            "Palindrome\n",
            "Not palindrome\n"
          ]
        }
      ]
    },
    {
      "cell_type": "code",
      "source": [
        "# 65)How Many Basic Types of Functions Are Available in Python?\n",
        "\n",
        "# In Python, there are two basic types of functions:\n",
        "\n",
        "# 1. Built-in Functions\n",
        "# These are predefined functions provided by Python.\n",
        "# You can use them directly without defining them.\n",
        "\n",
        "# 2. User-defined Functions\n",
        "# These are functions that you create using the def keyword.\n",
        "# You define what the function does."
      ],
      "metadata": {
        "id": "PIuPsJqPbLfh"
      },
      "execution_count": null,
      "outputs": []
    },
    {
      "cell_type": "code",
      "source": [
        "# 66)How can you pick a random item from a list or tuple?\n",
        "\n",
        "import random\n",
        "\n",
        "my_list = [10,20,30,40,50]\n",
        "print(random.choice(my_list))\n",
        "\n",
        "my_tuple = ('apple','mango','orange','grapes')\n",
        "print(random.choice(my_tuple))"
      ],
      "metadata": {
        "colab": {
          "base_uri": "https://localhost:8080/"
        },
        "id": "WKgLAlFNbl7v",
        "outputId": "ae3e2b0d-f113-4f79-8e9c-d70e1ed217fd"
      },
      "execution_count": null,
      "outputs": [
        {
          "output_type": "stream",
          "name": "stdout",
          "text": [
            "40\n",
            "apple\n"
          ]
        }
      ]
    },
    {
      "cell_type": "code",
      "source": [
        "# 67)How can you pick a random item from a range?\n",
        "\n",
        "import random\n",
        "\n",
        "random_item = random.choice(range(1, 10))\n",
        "print(random_item)"
      ],
      "metadata": {
        "colab": {
          "base_uri": "https://localhost:8080/"
        },
        "id": "FMHaowzVchdv",
        "outputId": "4617e989-32fe-41dd-8566-c7ade85559e8"
      },
      "execution_count": null,
      "outputs": [
        {
          "output_type": "stream",
          "name": "stdout",
          "text": [
            "8\n"
          ]
        }
      ]
    },
    {
      "cell_type": "code",
      "source": [
        "# 68)How can you get a random number in python?\n",
        "\n",
        "import random\n",
        "\n",
        "random_float = random.random()\n",
        "print(random_float)"
      ],
      "metadata": {
        "colab": {
          "base_uri": "https://localhost:8080/"
        },
        "id": "Dsw_qaMYc4ve",
        "outputId": "c5233ab4-b4e8-4312-8105-cac5b1b39113"
      },
      "execution_count": null,
      "outputs": [
        {
          "output_type": "stream",
          "name": "stdout",
          "text": [
            "0.24136742254202503\n"
          ]
        }
      ]
    },
    {
      "cell_type": "code",
      "source": [
        "# 69)How will you set the starting value in generating random numbers?\n",
        "\n",
        "import random\n",
        "\n",
        "random.seed(42)\n",
        "\n",
        "print(random.randint(1, 10))\n",
        "print(random.random())"
      ],
      "metadata": {
        "colab": {
          "base_uri": "https://localhost:8080/"
        },
        "id": "HXrcO-yIdp8G",
        "outputId": "830b7fd5-fa01-4393-8b20-0764d05cc3bf"
      },
      "execution_count": null,
      "outputs": [
        {
          "output_type": "stream",
          "name": "stdout",
          "text": [
            "2\n",
            "0.025010755222666936\n"
          ]
        }
      ]
    },
    {
      "cell_type": "code",
      "source": [
        "# 70) How will you randomize the items of a list in place?\n",
        "\n",
        "import random\n",
        "\n",
        "my_list = [1,2,3,4,5]\n",
        "\n",
        "random.shuffle(my_list)\n",
        "\n",
        "print(my_list)"
      ],
      "metadata": {
        "colab": {
          "base_uri": "https://localhost:8080/"
        },
        "id": "tkRnfKEdeRJw",
        "outputId": "69b2b6af-9ef6-45b5-ac4d-d7aa71fb95c3"
      },
      "execution_count": null,
      "outputs": [
        {
          "output_type": "stream",
          "name": "stdout",
          "text": [
            "[4, 2, 1, 3, 5]\n"
          ]
        }
      ]
    },
    {
      "cell_type": "code",
      "source": [
        "# 71)What is File function in python? What are keywords to create and write file.\n",
        "\n",
        "# In Python, file functions allow you to work with files. You can open, read, write, and close files using these functions. The main function used to interact with files is open().\n",
        "\n",
        "# Keywords for Creating and Writing to a File:\n",
        "# When working with files in Python, you specify the mode while using the open() function. Common modes include:\n",
        "# 'r': Read (default mode) - Opens a file for reading.\n",
        "# 'w': Write - Opens a file for writing. If the file exists, it will be overwritten.\n",
        "# 'a': Append - Opens a file for appending. If the file exists, new data is added at the end.\n",
        "# 'x': Exclusive creation - Opens the file for writing only if it does not exist.\n",
        "# 'b': Binary mode - Used for reading or writing binary files.\n",
        "# 't': Text mode (default) - Used for reading or writing text files.\n",
        "\n",
        "file = open('example.txt', 'w')\n",
        "\n",
        "file.write(\"Hello, world!\\nThis is a test.\")\n",
        "\n",
        "file.close()"
      ],
      "metadata": {
        "id": "zYF8uIQxesIJ"
      },
      "execution_count": 12,
      "outputs": []
    },
    {
      "cell_type": "code",
      "source": [
        "# 72)Write a Python program to read an entire text file.\n",
        "\n",
        "file = open('example.txt', 'r')\n",
        "\n",
        "content = file.read()\n",
        "\n",
        "print(content)\n",
        "\n",
        "file.close()"
      ],
      "metadata": {
        "colab": {
          "base_uri": "https://localhost:8080/"
        },
        "id": "WSUDv75df4mv",
        "outputId": "6230225c-9886-4c68-8486-c8afb994ee9d"
      },
      "execution_count": 13,
      "outputs": [
        {
          "output_type": "stream",
          "name": "stdout",
          "text": [
            "Hello, world!\n",
            "This is a test.\n"
          ]
        }
      ]
    },
    {
      "cell_type": "code",
      "source": [
        "# 73)Write a Python program to append text to a file and display the text.\n",
        "\n",
        "file = open('example.txt', 'a')\n",
        "file.write(\"\\nThis is the appended text.\")\n",
        "file.close()\n",
        "\n",
        "file = open('example.txt', 'r')\n",
        "content = file.read()\n",
        "print(content)\n",
        "file.close()"
      ],
      "metadata": {
        "colab": {
          "base_uri": "https://localhost:8080/"
        },
        "id": "rRzYWHalgXSU",
        "outputId": "fc6ec67b-f132-4388-febc-f70e9e03b0d8"
      },
      "execution_count": 14,
      "outputs": [
        {
          "output_type": "stream",
          "name": "stdout",
          "text": [
            "Hello, world!\n",
            "This is a test.\n",
            "This is the appended text.\n"
          ]
        }
      ]
    },
    {
      "cell_type": "code",
      "source": [
        "# 74)Write a Python program to read first n lines of a file.\n",
        "\n",
        "n = 5\n",
        "\n",
        "file = open('example.txt', 'r')\n",
        "\n",
        "for i in range(n):\n",
        "    line = file.readline()\n",
        "    if not line:\n",
        "        break\n",
        "    print(line, end='')\n",
        "\n",
        "file.close()"
      ],
      "metadata": {
        "colab": {
          "base_uri": "https://localhost:8080/"
        },
        "id": "aoAd5xC3hEaE",
        "outputId": "411a1d02-2f99-4414-ad8b-2b04da7e0de7"
      },
      "execution_count": null,
      "outputs": [
        {
          "output_type": "stream",
          "name": "stdout",
          "text": [
            "Hello, world!\n",
            "This is a test.\n",
            "This is the appended text.\n",
            "This is the appended text.\n",
            "This is the appended text."
          ]
        }
      ]
    },
    {
      "cell_type": "code",
      "source": [
        "# 75)Write a Python program to read last n lines of a file.\n",
        "\n",
        "n = 5\n",
        "\n",
        "file = open('example.txt', 'r')\n",
        "lines = file.readlines()\n",
        "\n",
        "for line in lines[-n:]:\n",
        "    print(line, end='')\n",
        "\n",
        "file.close()"
      ],
      "metadata": {
        "colab": {
          "base_uri": "https://localhost:8080/"
        },
        "id": "lPhDebIqhzEd",
        "outputId": "92af2c72-0d87-4d64-d9ed-99e0287e71d3"
      },
      "execution_count": null,
      "outputs": [
        {
          "output_type": "stream",
          "name": "stdout",
          "text": [
            "Hello, world!\n",
            "This is a test.\n",
            "This is the appended text.\n",
            "This is the appended text.\n",
            "This is the appended text."
          ]
        }
      ]
    },
    {
      "cell_type": "code",
      "source": [
        "# 76)Write a Python program to read a file line by line and store it into a list\n",
        "\n",
        "file = open('example.txt', 'r')\n",
        "\n",
        "lines = file.readlines()\n",
        "\n",
        "file.close()\n",
        "\n",
        "print(lines)"
      ],
      "metadata": {
        "colab": {
          "base_uri": "https://localhost:8080/"
        },
        "id": "-sHiEJ-kinKe",
        "outputId": "7f5b01ed-63f1-44ec-8eae-c5d767beeac4"
      },
      "execution_count": null,
      "outputs": [
        {
          "output_type": "stream",
          "name": "stdout",
          "text": [
            "['Hello, world!\\n', 'This is a test.\\n', 'This is the appended text.\\n', 'This is the appended text.\\n', 'This is the appended text.']\n"
          ]
        }
      ]
    },
    {
      "cell_type": "code",
      "source": [
        "# 77)Write a Python program to read a file line by line store it into a variable.\n",
        "\n",
        "file = open('example.txt', 'r')\n",
        "\n",
        "file_content = \"\"\n",
        "\n",
        "for line in file:\n",
        "    file_content += line\n",
        "\n",
        "file.close()\n",
        "\n",
        "print(file_content)"
      ],
      "metadata": {
        "colab": {
          "base_uri": "https://localhost:8080/"
        },
        "id": "F4PuRf6ni3FY",
        "outputId": "107c42e1-0098-43da-e144-5437c33238f3"
      },
      "execution_count": 15,
      "outputs": [
        {
          "output_type": "stream",
          "name": "stdout",
          "text": [
            "Hello, world!\n",
            "This is a test.\n",
            "This is the appended text.\n"
          ]
        }
      ]
    },
    {
      "cell_type": "code",
      "source": [
        "# 78)Write a python program to find the longest words.\n",
        "\n",
        "file = open('example.txt', 'r')\n",
        "\n",
        "text = file.read()\n",
        "\n",
        "file.close()\n",
        "\n",
        "words = text.split()\n",
        "\n",
        "longest = max(words, key=len)\n",
        "\n",
        "print(\"Longest word:\", longest)\n"
      ],
      "metadata": {
        "colab": {
          "base_uri": "https://localhost:8080/"
        },
        "id": "n-2N2Y0Bj2kR",
        "outputId": "8eb44823-a8ec-41d1-a605-d7a3d97bc4e5"
      },
      "execution_count": null,
      "outputs": [
        {
          "output_type": "stream",
          "name": "stdout",
          "text": [
            "Longest word: appended\n"
          ]
        }
      ]
    },
    {
      "cell_type": "code",
      "source": [
        "# 79)Write a Python program to count the number of lines in a text file.\n",
        "\n",
        "file = open('example.txt', 'r')\n",
        "\n",
        "lines = file.readlines()\n",
        "\n",
        "file.close()\n",
        "\n",
        "print(\"Number of lines:\", len(lines))"
      ],
      "metadata": {
        "colab": {
          "base_uri": "https://localhost:8080/"
        },
        "id": "34KvXqvFkTPN",
        "outputId": "a8b00e96-d04b-4225-8097-063f107b2d69"
      },
      "execution_count": null,
      "outputs": [
        {
          "output_type": "stream",
          "name": "stdout",
          "text": [
            "Number of lines: 5\n"
          ]
        }
      ]
    },
    {
      "cell_type": "code",
      "source": [
        "# 80)Write a Python program to count the frequency of words in a file.\n",
        "\n",
        "file = open('example.txt', 'r')\n",
        "\n",
        "text = file.read()\n",
        "\n",
        "file.close()\n",
        "\n",
        "words = text.split()\n",
        "\n",
        "word_count = {}\n",
        "\n",
        "for word in words:\n",
        "    if word in word_count:\n",
        "        word_count[word] += 1\n",
        "    else:\n",
        "        word_count[word] = 1\n",
        "\n",
        "print(word_count)"
      ],
      "metadata": {
        "colab": {
          "base_uri": "https://localhost:8080/"
        },
        "id": "qwGiFSGQkglf",
        "outputId": "25f94f81-ee39-4763-aa04-8f56af17513d"
      },
      "execution_count": 16,
      "outputs": [
        {
          "output_type": "stream",
          "name": "stdout",
          "text": [
            "{'Hello,': 1, 'world!': 1, 'This': 2, 'is': 2, 'a': 1, 'test.': 1, 'the': 1, 'appended': 1, 'text.': 1}\n"
          ]
        }
      ]
    },
    {
      "cell_type": "code",
      "source": [
        "# 81)Write a Python program to write a list to a file.\n",
        "\n",
        "my_list = [\"apple\",\"banana\",\"mango\"]\n",
        "\n",
        "file = open(\"myfile.txt\", \"w\")\n",
        "\n",
        "for item in my_list:\n",
        "    file.write(str(item) + \"\\n\")\n",
        "\n",
        "file.close()\n",
        "\n",
        "print(\"List saved to file.\")"
      ],
      "metadata": {
        "id": "1arMmow2lH_s",
        "colab": {
          "base_uri": "https://localhost:8080/"
        },
        "outputId": "6fd35c6b-a22d-4aa7-91c6-aad6f1748bf9"
      },
      "execution_count": 7,
      "outputs": [
        {
          "output_type": "stream",
          "name": "stdout",
          "text": [
            "List saved to file.\n"
          ]
        }
      ]
    },
    {
      "cell_type": "code",
      "source": [
        "# 82)Write a Python program to copy the contents of a file to another file.\n",
        "\n",
        "file1 = open(\"example.txt\", \"r\")\n",
        "file2 = open(\"myfile.txt\", \"w\")\n",
        "\n",
        "file2.write(file1.read())\n",
        "\n",
        "file1.close()\n",
        "file2.close()\n",
        "\n",
        "print(\"File copied.\")"
      ],
      "metadata": {
        "colab": {
          "base_uri": "https://localhost:8080/"
        },
        "id": "zOIZxLXxeBze",
        "outputId": "db634859-a234-4520-f222-9a76aa89070c"
      },
      "execution_count": 20,
      "outputs": [
        {
          "output_type": "stream",
          "name": "stdout",
          "text": [
            "File copied.\n"
          ]
        }
      ]
    },
    {
      "cell_type": "markdown",
      "source": [
        "83)Explain Exception handling? What is an Error in Python?\n",
        "\n",
        "Exception handling is a way to manage errors in a program so that it doesn't crash. When an error (called an exception) happens, Python stops the program unless we handle it properly.\n",
        "\n",
        "Python uses try, except, else, and finally blocks to handle exceptions.\n",
        "\n",
        "🔹 Keywords in Exception Handling:\n",
        "*   try\n",
        "*   except\n",
        "*   else\n",
        "*   finally\n",
        "\n",
        "An error is a problem in a program that causes it to stop.\n",
        "There are mainly two types of errors:\n",
        "\n",
        "1.Syntax Errors\n",
        "\n",
        "Errors in the code structure (like missing : or incorrect indentation).\n",
        "\n",
        "2.Exceptions (Runtime Errors):\n",
        "\n",
        "Errors that happen during execution (like dividing by zero or using a variable that doesn't exist)."
      ],
      "metadata": {
        "id": "xsFB0abXfqg6"
      }
    },
    {
      "cell_type": "markdown",
      "source": [
        "84)How many except statements can a try-except block have? Name\n",
        "Some built-in exception classes:\n",
        "\n",
        "We can have as many except blocks as you want after a try block. Each except can handle a different type of exception.\n",
        "\n",
        "Some Built-in Exception Classes in Python:\n",
        "\n",
        "*   ZeroDivisionError\n",
        "*   ValueError\n",
        "*   TypeError\n",
        "*   IndexError\n",
        "*   KeyError\n",
        "*   FileNotFoundError\n",
        "*   IOError\n",
        "*   NameError\n",
        "*   AttributeError\n",
        "*   ImportError"
      ],
      "metadata": {
        "id": "87sQLH4Khdxl"
      }
    },
    {
      "cell_type": "code",
      "source": [
        "# 85)When will the else part of try-except-else be executed?\n",
        "\n",
        "# The else part is executed only if:\n",
        "# The code inside the try block runs without any exception.\n",
        "# If an exception occurs, the else block is skipped, and control goes to the except block.\n",
        "\n",
        "try:\n",
        "    num = int(input(\"Enter a number: \"))\n",
        "    print(\"You entered:\", num)\n",
        "except ValueError:\n",
        "    print(\"That's not a number!\")\n",
        "else:\n",
        "    print(\"This is the ELSE block. Everything went fine!\")"
      ],
      "metadata": {
        "colab": {
          "base_uri": "https://localhost:8080/"
        },
        "id": "F4O3RQCOihUn",
        "outputId": "690b69cb-f663-44e7-cd30-fd30c0569d25"
      },
      "execution_count": 28,
      "outputs": [
        {
          "output_type": "stream",
          "name": "stdout",
          "text": [
            "Enter a number: 5\n",
            "You entered: 5\n",
            "This is the ELSE block. Everything went fine!\n"
          ]
        }
      ]
    },
    {
      "cell_type": "code",
      "source": [
        "# 86)Can one block of except statements handle multiple exception?\n",
        "\n",
        "try:\n",
        "    num = int(input(\"Enter a number: \"))\n",
        "    result = 10 / num\n",
        "except (ValueError, ZeroDivisionError):\n",
        "    print(\"You entered an invalid number or tried to divide by zero.\")\n",
        "else:\n",
        "    print(\"Result is:\", result)\n",
        "\n",
        "# Yes, a single except block can handle multiple exceptions by grouping them in parentheses as a tuple."
      ],
      "metadata": {
        "colab": {
          "base_uri": "https://localhost:8080/"
        },
        "id": "S-vcDgTAjLFq",
        "outputId": "471e146e-60aa-4fe5-86a2-66f28486f94a"
      },
      "execution_count": 40,
      "outputs": [
        {
          "output_type": "stream",
          "name": "stdout",
          "text": [
            "Enter a number: 10\n",
            "Result is: 1.0\n"
          ]
        }
      ]
    },
    {
      "cell_type": "code",
      "source": [
        "# 87)When is the finally block executed?\n",
        "\n",
        "# The finally block is always executed, no matter what happens in the try or except blocks.\n",
        "\n",
        "try:\n",
        "    x = int(input(\"Enter a number: \"))\n",
        "    result = 10 / x\n",
        "except ZeroDivisionError:\n",
        "    print(\"You can't divide by zero.\")\n",
        "else:\n",
        "    print(\"Result:\", result)\n",
        "finally:\n",
        "    print(\"This is the finally block. It always runs.\")"
      ],
      "metadata": {
        "colab": {
          "base_uri": "https://localhost:8080/"
        },
        "id": "XzTJAduejyCv",
        "outputId": "f4280484-617f-4621-f9b4-f0adf208812f"
      },
      "execution_count": 42,
      "outputs": [
        {
          "output_type": "stream",
          "name": "stdout",
          "text": [
            "Enter a number: 0\n",
            "You can't divide by zero.\n",
            "This is the finally block. It always runs.\n"
          ]
        }
      ]
    },
    {
      "cell_type": "code",
      "source": [
        "# 88)What happens when „1‟== 1 is executed?\n",
        "\n",
        "'1' == 1"
      ],
      "metadata": {
        "colab": {
          "base_uri": "https://localhost:8080/"
        },
        "id": "ItKWHf9MkD3F",
        "outputId": "267a7a46-7490-46f3-9fa6-b6e2ea2fd43d"
      },
      "execution_count": 45,
      "outputs": [
        {
          "output_type": "execute_result",
          "data": {
            "text/plain": [
              "False"
            ]
          },
          "metadata": {},
          "execution_count": 45
        }
      ]
    },
    {
      "cell_type": "code",
      "source": [
        "# 89)How Do You Handle Exceptions with Try/Except/Finally in Python?\n",
        "# Explain with coding snippets.\n",
        "\n",
        "# Python provides a way to handle errors (exceptions) gracefully using these blocks:\n",
        "\n",
        "# try: Code that might raise an exception goes here.\n",
        "# except: Code that handles the exception if one occurs.\n",
        "# finally: Code that always runs, whether an exception occurred or not (usually for cleanup).\n",
        "\n",
        "try:\n",
        "    num = int(input(\"Enter a number: \"))\n",
        "    result = 10 / num\n",
        "    print(\"Result is:\", result)\n",
        "except ZeroDivisionError:\n",
        "    print(\"Error: Cannot divide by zero.\")\n",
        "except ValueError:\n",
        "    print(\"Error: Invalid input; please enter a number.\")\n",
        "finally:\n",
        "    print(\"This runs no matter what. Cleaning up...\")"
      ],
      "metadata": {
        "colab": {
          "base_uri": "https://localhost:8080/"
        },
        "id": "ZUzJzpjVkVYf",
        "outputId": "80e81043-fe92-4607-87c7-09a954184f60"
      },
      "execution_count": 49,
      "outputs": [
        {
          "output_type": "stream",
          "name": "stdout",
          "text": [
            "Enter a number: 5\n",
            "Result is: 2.0\n",
            "This runs no matter what. Cleaning up...\n"
          ]
        }
      ]
    },
    {
      "cell_type": "code",
      "source": [
        "# 90)Write python program that user to enter only odd numbers, else will raise an exception.\n",
        "\n",
        "try:\n",
        "    num = int(input(\"Enter an odd number:\"))\n",
        "    if num % 2 == 0:\n",
        "        raise Exception(\"That's not an odd number!\")\n",
        "    else:\n",
        "        print(\"Thank you! You entered an odd number.\")\n",
        "except Exception as e:\n",
        "    print(e)"
      ],
      "metadata": {
        "colab": {
          "base_uri": "https://localhost:8080/"
        },
        "id": "PpZ7VdQxk2IZ",
        "outputId": "928cd45f-0cd3-429d-e38e-93c81dc210ad"
      },
      "execution_count": 52,
      "outputs": [
        {
          "output_type": "stream",
          "name": "stdout",
          "text": [
            "Enter an odd number:7\n",
            "Thank you! You entered an odd number.\n"
          ]
        }
      ]
    }
  ]
}